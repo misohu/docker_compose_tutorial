{
 "cells": [
  {
   "cell_type": "code",
   "execution_count": 1,
   "metadata": {},
   "outputs": [],
   "source": [
    "import psycopg2 "
   ]
  },
  {
   "cell_type": "code",
   "execution_count": 3,
   "metadata": {},
   "outputs": [],
   "source": [
    "connection = psycopg2.connect(host=\"postgresql\", port=5432, dbname=\"test\", user=\"itguymichal\", password=\"admin\")"
   ]
  },
  {
   "cell_type": "code",
   "execution_count": 4,
   "metadata": {},
   "outputs": [],
   "source": [
    "cursor = connection.cursor()"
   ]
  },
  {
   "cell_type": "code",
   "execution_count": 5,
   "metadata": {},
   "outputs": [],
   "source": [
    "cursor.execute(\"SELECT * FROM test_table;\")"
   ]
  },
  {
   "cell_type": "code",
   "execution_count": 6,
   "metadata": {},
   "outputs": [
    {
     "data": {
      "text/plain": [
       "[('2cc49f6dfc9540be707da67b57aef7ce',),\n",
       " ('dcdfa19ba7154a151746f90035f10e65',),\n",
       " ('b31477f0b495522683dc6f3590b756b2',),\n",
       " ('2fe6e80b3ec5d267ea075a1d30f482d6',),\n",
       " ('2efd23218fcd82724066ab8978c604d3',),\n",
       " ('88245f64c0d93dae19383f0db65da4e4',),\n",
       " ('f5e82b6e45ded317f922a2c84da08f73',),\n",
       " ('4c018ed85558745a23faf68a2b92c889',),\n",
       " ('059a4ee392fa582e5009992a35987fd4',),\n",
       " ('8403bf7c45b75bcd21d6ac12ca9bb265',)]"
      ]
     },
     "execution_count": 6,
     "metadata": {},
     "output_type": "execute_result"
    }
   ],
   "source": [
    "cursor.fetchall()"
   ]
  },
  {
   "cell_type": "code",
   "execution_count": null,
   "metadata": {},
   "outputs": [],
   "source": []
  }
 ],
 "metadata": {
  "kernelspec": {
   "display_name": "Python 3",
   "language": "python",
   "name": "python3"
  },
  "language_info": {
   "codemirror_mode": {
    "name": "ipython",
    "version": 3
   },
   "file_extension": ".py",
   "mimetype": "text/x-python",
   "name": "python",
   "nbconvert_exporter": "python",
   "pygments_lexer": "ipython3",
   "version": "3.8.5"
  }
 },
 "nbformat": 4,
 "nbformat_minor": 4
}
